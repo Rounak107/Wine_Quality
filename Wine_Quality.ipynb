{
 "cells": [
  {
   "cell_type": "code",
   "execution_count": 1,
   "id": "d721f6b8",
   "metadata": {},
   "outputs": [],
   "source": [
    "import pandas as pd\n",
    "import numpy as np\n",
    "import matplotlib.pyplot as plt"
   ]
  },
  {
   "cell_type": "code",
   "execution_count": 2,
   "id": "7bcb31ed",
   "metadata": {},
   "outputs": [
    {
     "data": {
      "text/html": [
       "<div>\n",
       "<style scoped>\n",
       "    .dataframe tbody tr th:only-of-type {\n",
       "        vertical-align: middle;\n",
       "    }\n",
       "\n",
       "    .dataframe tbody tr th {\n",
       "        vertical-align: top;\n",
       "    }\n",
       "\n",
       "    .dataframe thead th {\n",
       "        text-align: right;\n",
       "    }\n",
       "</style>\n",
       "<table border=\"1\" class=\"dataframe\">\n",
       "  <thead>\n",
       "    <tr style=\"text-align: right;\">\n",
       "      <th></th>\n",
       "      <th>fixed acidity</th>\n",
       "      <th>volatile acidity</th>\n",
       "      <th>citric acid</th>\n",
       "      <th>residual sugar</th>\n",
       "      <th>chlorides</th>\n",
       "      <th>free sulfur dioxide</th>\n",
       "      <th>total sulfur dioxide</th>\n",
       "      <th>density</th>\n",
       "      <th>pH</th>\n",
       "      <th>sulphates</th>\n",
       "      <th>alcohol</th>\n",
       "      <th>quality</th>\n",
       "    </tr>\n",
       "  </thead>\n",
       "  <tbody>\n",
       "    <tr>\n",
       "      <th>0</th>\n",
       "      <td>7.4</td>\n",
       "      <td>0.70</td>\n",
       "      <td>0.00</td>\n",
       "      <td>1.9</td>\n",
       "      <td>0.076</td>\n",
       "      <td>11.0</td>\n",
       "      <td>34.0</td>\n",
       "      <td>0.9978</td>\n",
       "      <td>3.51</td>\n",
       "      <td>0.56</td>\n",
       "      <td>9.4</td>\n",
       "      <td>5</td>\n",
       "    </tr>\n",
       "    <tr>\n",
       "      <th>1</th>\n",
       "      <td>7.8</td>\n",
       "      <td>0.88</td>\n",
       "      <td>0.00</td>\n",
       "      <td>2.6</td>\n",
       "      <td>0.098</td>\n",
       "      <td>25.0</td>\n",
       "      <td>67.0</td>\n",
       "      <td>0.9968</td>\n",
       "      <td>3.20</td>\n",
       "      <td>0.68</td>\n",
       "      <td>9.8</td>\n",
       "      <td>5</td>\n",
       "    </tr>\n",
       "    <tr>\n",
       "      <th>2</th>\n",
       "      <td>7.8</td>\n",
       "      <td>0.76</td>\n",
       "      <td>0.04</td>\n",
       "      <td>2.3</td>\n",
       "      <td>0.092</td>\n",
       "      <td>15.0</td>\n",
       "      <td>54.0</td>\n",
       "      <td>0.9970</td>\n",
       "      <td>3.26</td>\n",
       "      <td>0.65</td>\n",
       "      <td>9.8</td>\n",
       "      <td>5</td>\n",
       "    </tr>\n",
       "    <tr>\n",
       "      <th>3</th>\n",
       "      <td>11.2</td>\n",
       "      <td>0.28</td>\n",
       "      <td>0.56</td>\n",
       "      <td>1.9</td>\n",
       "      <td>0.075</td>\n",
       "      <td>17.0</td>\n",
       "      <td>60.0</td>\n",
       "      <td>0.9980</td>\n",
       "      <td>3.16</td>\n",
       "      <td>0.58</td>\n",
       "      <td>9.8</td>\n",
       "      <td>6</td>\n",
       "    </tr>\n",
       "    <tr>\n",
       "      <th>4</th>\n",
       "      <td>7.4</td>\n",
       "      <td>0.70</td>\n",
       "      <td>0.00</td>\n",
       "      <td>1.9</td>\n",
       "      <td>0.076</td>\n",
       "      <td>11.0</td>\n",
       "      <td>34.0</td>\n",
       "      <td>0.9978</td>\n",
       "      <td>3.51</td>\n",
       "      <td>0.56</td>\n",
       "      <td>9.4</td>\n",
       "      <td>5</td>\n",
       "    </tr>\n",
       "  </tbody>\n",
       "</table>\n",
       "</div>"
      ],
      "text/plain": [
       "   fixed acidity  volatile acidity  citric acid  residual sugar  chlorides  \\\n",
       "0            7.4              0.70         0.00             1.9      0.076   \n",
       "1            7.8              0.88         0.00             2.6      0.098   \n",
       "2            7.8              0.76         0.04             2.3      0.092   \n",
       "3           11.2              0.28         0.56             1.9      0.075   \n",
       "4            7.4              0.70         0.00             1.9      0.076   \n",
       "\n",
       "   free sulfur dioxide  total sulfur dioxide  density    pH  sulphates  \\\n",
       "0                 11.0                  34.0   0.9978  3.51       0.56   \n",
       "1                 25.0                  67.0   0.9968  3.20       0.68   \n",
       "2                 15.0                  54.0   0.9970  3.26       0.65   \n",
       "3                 17.0                  60.0   0.9980  3.16       0.58   \n",
       "4                 11.0                  34.0   0.9978  3.51       0.56   \n",
       "\n",
       "   alcohol  quality  \n",
       "0      9.4        5  \n",
       "1      9.8        5  \n",
       "2      9.8        5  \n",
       "3      9.8        6  \n",
       "4      9.4        5  "
      ]
     },
     "execution_count": 2,
     "metadata": {},
     "output_type": "execute_result"
    }
   ],
   "source": [
    "df = pd.read_csv('winequality-red.csv')\n",
    "df.head()"
   ]
  },
  {
   "cell_type": "code",
   "execution_count": 3,
   "id": "75d64db0",
   "metadata": {},
   "outputs": [
    {
     "data": {
      "text/plain": [
       "(1599, 12)"
      ]
     },
     "execution_count": 3,
     "metadata": {},
     "output_type": "execute_result"
    }
   ],
   "source": [
    "df.shape"
   ]
  },
  {
   "cell_type": "code",
   "execution_count": 4,
   "id": "7646954f",
   "metadata": {},
   "outputs": [
    {
     "data": {
      "text/plain": [
       "fixed acidity           0\n",
       "volatile acidity        0\n",
       "citric acid             0\n",
       "residual sugar          0\n",
       "chlorides               0\n",
       "free sulfur dioxide     0\n",
       "total sulfur dioxide    0\n",
       "density                 0\n",
       "pH                      0\n",
       "sulphates               0\n",
       "alcohol                 0\n",
       "quality                 0\n",
       "dtype: int64"
      ]
     },
     "execution_count": 4,
     "metadata": {},
     "output_type": "execute_result"
    }
   ],
   "source": [
    "df.isnull().sum()"
   ]
  },
  {
   "cell_type": "code",
   "execution_count": 5,
   "id": "937ec2f2",
   "metadata": {},
   "outputs": [
    {
     "data": {
      "text/plain": [
       "5    681\n",
       "6    638\n",
       "7    199\n",
       "4     53\n",
       "8     18\n",
       "3     10\n",
       "Name: quality, dtype: int64"
      ]
     },
     "execution_count": 5,
     "metadata": {},
     "output_type": "execute_result"
    }
   ],
   "source": [
    "df['quality'].value_counts()"
   ]
  },
  {
   "cell_type": "code",
   "execution_count": 6,
   "id": "6c644259",
   "metadata": {},
   "outputs": [
    {
     "data": {
      "text/plain": [
       "fixed acidity           float64\n",
       "volatile acidity        float64\n",
       "citric acid             float64\n",
       "residual sugar          float64\n",
       "chlorides               float64\n",
       "free sulfur dioxide     float64\n",
       "total sulfur dioxide    float64\n",
       "density                 float64\n",
       "pH                      float64\n",
       "sulphates               float64\n",
       "alcohol                 float64\n",
       "quality                   int64\n",
       "dtype: object"
      ]
     },
     "execution_count": 6,
     "metadata": {},
     "output_type": "execute_result"
    }
   ],
   "source": [
    "df.dtypes"
   ]
  },
  {
   "cell_type": "code",
   "execution_count": 7,
   "id": "a2c06aaa",
   "metadata": {},
   "outputs": [
    {
     "name": "stdout",
     "output_type": "stream",
     "text": [
      "(1599, 11)\n",
      "(1599,)\n",
      "<class 'pandas.core.frame.DataFrame'>\n",
      "<class 'pandas.core.series.Series'>\n"
     ]
    }
   ],
   "source": [
    "x = df.iloc[:,:-1]\n",
    "y = df.iloc[:,-1]\n",
    "print(x.shape)\n",
    "print(y.shape)\n",
    "print(type(x))\n",
    "print(type(y))"
   ]
  },
  {
   "cell_type": "code",
   "execution_count": 8,
   "id": "53746d04",
   "metadata": {},
   "outputs": [
    {
     "data": {
      "text/html": [
       "<div>\n",
       "<style scoped>\n",
       "    .dataframe tbody tr th:only-of-type {\n",
       "        vertical-align: middle;\n",
       "    }\n",
       "\n",
       "    .dataframe tbody tr th {\n",
       "        vertical-align: top;\n",
       "    }\n",
       "\n",
       "    .dataframe thead th {\n",
       "        text-align: right;\n",
       "    }\n",
       "</style>\n",
       "<table border=\"1\" class=\"dataframe\">\n",
       "  <thead>\n",
       "    <tr style=\"text-align: right;\">\n",
       "      <th></th>\n",
       "      <th>fixed acidity</th>\n",
       "      <th>volatile acidity</th>\n",
       "      <th>citric acid</th>\n",
       "      <th>residual sugar</th>\n",
       "      <th>chlorides</th>\n",
       "      <th>free sulfur dioxide</th>\n",
       "      <th>total sulfur dioxide</th>\n",
       "      <th>density</th>\n",
       "      <th>pH</th>\n",
       "      <th>sulphates</th>\n",
       "      <th>alcohol</th>\n",
       "    </tr>\n",
       "  </thead>\n",
       "  <tbody>\n",
       "    <tr>\n",
       "      <th>0</th>\n",
       "      <td>7.4</td>\n",
       "      <td>0.70</td>\n",
       "      <td>0.00</td>\n",
       "      <td>1.9</td>\n",
       "      <td>0.076</td>\n",
       "      <td>11.0</td>\n",
       "      <td>34.0</td>\n",
       "      <td>0.9978</td>\n",
       "      <td>3.51</td>\n",
       "      <td>0.56</td>\n",
       "      <td>9.4</td>\n",
       "    </tr>\n",
       "    <tr>\n",
       "      <th>1</th>\n",
       "      <td>7.8</td>\n",
       "      <td>0.88</td>\n",
       "      <td>0.00</td>\n",
       "      <td>2.6</td>\n",
       "      <td>0.098</td>\n",
       "      <td>25.0</td>\n",
       "      <td>67.0</td>\n",
       "      <td>0.9968</td>\n",
       "      <td>3.20</td>\n",
       "      <td>0.68</td>\n",
       "      <td>9.8</td>\n",
       "    </tr>\n",
       "    <tr>\n",
       "      <th>2</th>\n",
       "      <td>7.8</td>\n",
       "      <td>0.76</td>\n",
       "      <td>0.04</td>\n",
       "      <td>2.3</td>\n",
       "      <td>0.092</td>\n",
       "      <td>15.0</td>\n",
       "      <td>54.0</td>\n",
       "      <td>0.9970</td>\n",
       "      <td>3.26</td>\n",
       "      <td>0.65</td>\n",
       "      <td>9.8</td>\n",
       "    </tr>\n",
       "    <tr>\n",
       "      <th>3</th>\n",
       "      <td>11.2</td>\n",
       "      <td>0.28</td>\n",
       "      <td>0.56</td>\n",
       "      <td>1.9</td>\n",
       "      <td>0.075</td>\n",
       "      <td>17.0</td>\n",
       "      <td>60.0</td>\n",
       "      <td>0.9980</td>\n",
       "      <td>3.16</td>\n",
       "      <td>0.58</td>\n",
       "      <td>9.8</td>\n",
       "    </tr>\n",
       "    <tr>\n",
       "      <th>4</th>\n",
       "      <td>7.4</td>\n",
       "      <td>0.70</td>\n",
       "      <td>0.00</td>\n",
       "      <td>1.9</td>\n",
       "      <td>0.076</td>\n",
       "      <td>11.0</td>\n",
       "      <td>34.0</td>\n",
       "      <td>0.9978</td>\n",
       "      <td>3.51</td>\n",
       "      <td>0.56</td>\n",
       "      <td>9.4</td>\n",
       "    </tr>\n",
       "  </tbody>\n",
       "</table>\n",
       "</div>"
      ],
      "text/plain": [
       "   fixed acidity  volatile acidity  citric acid  residual sugar  chlorides  \\\n",
       "0            7.4              0.70         0.00             1.9      0.076   \n",
       "1            7.8              0.88         0.00             2.6      0.098   \n",
       "2            7.8              0.76         0.04             2.3      0.092   \n",
       "3           11.2              0.28         0.56             1.9      0.075   \n",
       "4            7.4              0.70         0.00             1.9      0.076   \n",
       "\n",
       "   free sulfur dioxide  total sulfur dioxide  density    pH  sulphates  \\\n",
       "0                 11.0                  34.0   0.9978  3.51       0.56   \n",
       "1                 25.0                  67.0   0.9968  3.20       0.68   \n",
       "2                 15.0                  54.0   0.9970  3.26       0.65   \n",
       "3                 17.0                  60.0   0.9980  3.16       0.58   \n",
       "4                 11.0                  34.0   0.9978  3.51       0.56   \n",
       "\n",
       "   alcohol  \n",
       "0      9.4  \n",
       "1      9.8  \n",
       "2      9.8  \n",
       "3      9.8  \n",
       "4      9.4  "
      ]
     },
     "execution_count": 8,
     "metadata": {},
     "output_type": "execute_result"
    }
   ],
   "source": [
    "x.head()"
   ]
  },
  {
   "cell_type": "code",
   "execution_count": 9,
   "id": "1ce7b458",
   "metadata": {},
   "outputs": [
    {
     "data": {
      "text/plain": [
       "0    5\n",
       "1    5\n",
       "2    5\n",
       "3    6\n",
       "4    5\n",
       "Name: quality, dtype: int64"
      ]
     },
     "execution_count": 9,
     "metadata": {},
     "output_type": "execute_result"
    }
   ],
   "source": [
    "y.head()"
   ]
  },
  {
   "cell_type": "code",
   "execution_count": 10,
   "id": "96d7cdbf",
   "metadata": {},
   "outputs": [],
   "source": [
    "from sklearn.model_selection import train_test_split"
   ]
  },
  {
   "cell_type": "code",
   "execution_count": 11,
   "id": "4c5591a7",
   "metadata": {},
   "outputs": [
    {
     "name": "stdout",
     "output_type": "stream",
     "text": [
      "(1119, 11)\n",
      "(480, 11)\n",
      "(1119,)\n",
      "(480,)\n"
     ]
    }
   ],
   "source": [
    "x_train,x_test,y_train,y_test = train_test_split(x,y,test_size=0.30)\n",
    "print(x_train.shape)\n",
    "print(x_test.shape)\n",
    "print(y_train.shape)\n",
    "print(y_test.shape)"
   ]
  },
  {
   "cell_type": "code",
   "execution_count": 12,
   "id": "ca20b10e",
   "metadata": {},
   "outputs": [],
   "source": [
    "from sklearn.metrics import confusion_matrix,classification_report,accuracy_score"
   ]
  },
  {
   "cell_type": "code",
   "execution_count": 13,
   "id": "8f07efab",
   "metadata": {},
   "outputs": [],
   "source": [
    "def gen_metrics(ytest,ypred):                                     \n",
    "    cm = confusion_matrix(ytest,ypred)\n",
    "    print('Confusion Matrix\\n',cm)\n",
    "    print('Classfication Report\\n',classification_report(ytest,ypred,zero_division=0))\n",
    "    \n",
    "def tt_score(model):                                              \n",
    "    print('Training Score',model.score(x_train,y_train))\n",
    "    print('Testing Score',model.score(x_test,y_test))"
   ]
  },
  {
   "cell_type": "code",
   "execution_count": 14,
   "id": "68e5863c",
   "metadata": {},
   "outputs": [],
   "source": [
    "from sklearn.linear_model import LogisticRegression"
   ]
  },
  {
   "cell_type": "code",
   "execution_count": 15,
   "id": "f20e822b",
   "metadata": {},
   "outputs": [
    {
     "data": {
      "text/plain": [
       "LogisticRegression(max_iter=1000, solver='liblinear')"
      ]
     },
     "execution_count": 15,
     "metadata": {},
     "output_type": "execute_result"
    }
   ],
   "source": [
    "m1 = LogisticRegression(max_iter=1000,solver='liblinear')\n",
    "m1.fit(x_train,y_train)"
   ]
  },
  {
   "cell_type": "code",
   "execution_count": 16,
   "id": "8837d758",
   "metadata": {},
   "outputs": [
    {
     "name": "stdout",
     "output_type": "stream",
     "text": [
      "Training Score 0.5817694369973191\n",
      "Testing Score 0.6\n"
     ]
    }
   ],
   "source": [
    "tt_score(m1)"
   ]
  },
  {
   "cell_type": "code",
   "execution_count": 17,
   "id": "a82f27e5",
   "metadata": {},
   "outputs": [
    {
     "name": "stdout",
     "output_type": "stream",
     "text": [
      "[6 6 5 5 6 5 6 5 6 5 6 6 6 6 5 5 6 6 5 5 5 5 6 5 6 6 5 6 7 6 7 5 5 6 6 6 5\n",
      " 6 6 6 6 6 5 5 5 5 5 6 6 6 5 5 5 5 6 6 6 6 5 5 5 5 6 5 5 6 5 5 7 6 5 5 5 6\n",
      " 5 5 5 5 5 6 6 5 6 5 7 5 6 5 7 6 5 7 7 6 5 6 6 6 7 5 5 5 5 7 6 6 6 7 5 6 5\n",
      " 5 6 6 6 5 6 5 5 5 6 6 6 5 6 5 6 6 5 5 5 5 5 5 6 5 5 6 6 6 5 6 6 6 6 5 5 5\n",
      " 5 6 6 5 6 5 6 6 6 6 5 6 6 5 6 5 5 6 5 5 6 5 6 6 6 5 5 5 5 6 5 6 6 6 6 5 7\n",
      " 6 6 6 6 5 5 5 6 5 5 5 5 6 5 5 6 6 6 5 5 5 6 5 7 6 5 5 6 5 5 6 6 5 6 6 6 5\n",
      " 5 5 5 6 5 5 5 6 6 5 6 5 6 5 5 5 5 5 6 6 5 6 5 6 5 5 5 5 5 6 5 6 5 5 5 5 6\n",
      " 6 5 6 5 5 6 5 5 6 6 5 5 6 5 5 5 6 6 6 5 5 6 7 5 5 6 5 5 5 6 5 6 6 5 6 5 5\n",
      " 6 5 5 5 5 6 6 6 6 5 5 6 5 5 5 6 5 5 5 7 6 5 6 6 6 5 7 5 7 5 5 5 6 6 7 6 5\n",
      " 6 5 6 6 5 5 6 5 6 5 5 5 5 7 6 6 5 5 5 6 6 6 5 5 5 6 5 6 5 5 6 6 5 6 6 6 5\n",
      " 5 5 6 5 6 6 6 6 5 6 5 5 5 6 6 5 5 5 5 6 5 7 5 6 6 5 5 6 6 6 5 5 6 6 5 6 5\n",
      " 5 7 5 5 6 6 6 6 5 5 6 5 5 5 5 5 5 6 6 6 5 6 6 6 5 5 6 5 6 6 5 6 6 6 6 5 5\n",
      " 6 5 6 6 5 5 6 5 5 6 6 6 5 5 5 6 5 7 6 5 6 5 5 5 5 6 6 5 7 5 7 5 5 5 5 5]\n"
     ]
    }
   ],
   "source": [
    "ypred_m1 = m1.predict(x_test)\n",
    "print(ypred_m1)"
   ]
  },
  {
   "cell_type": "code",
   "execution_count": 18,
   "id": "9035555c",
   "metadata": {},
   "outputs": [
    {
     "name": "stdout",
     "output_type": "stream",
     "text": [
      "Confusion Matrix\n",
      " [[  0   0   3   1   0   0]\n",
      " [  0   0   8   4   1   0]\n",
      " [  0   0 153  33   3   0]\n",
      " [  0   0  78 125   8   0]\n",
      " [  0   0   7  40  10   0]\n",
      " [  0   0   0   5   1   0]]\n",
      "Classfication Report\n",
      "               precision    recall  f1-score   support\n",
      "\n",
      "           3       0.00      0.00      0.00         4\n",
      "           4       0.00      0.00      0.00        13\n",
      "           5       0.61      0.81      0.70       189\n",
      "           6       0.60      0.59      0.60       211\n",
      "           7       0.43      0.18      0.25        57\n",
      "           8       0.00      0.00      0.00         6\n",
      "\n",
      "    accuracy                           0.60       480\n",
      "   macro avg       0.28      0.26      0.26       480\n",
      "weighted avg       0.56      0.60      0.57       480\n",
      "\n"
     ]
    }
   ],
   "source": [
    "gen_metrics(y_test,ypred_m1)"
   ]
  },
  {
   "cell_type": "code",
   "execution_count": 19,
   "id": "5213d736",
   "metadata": {},
   "outputs": [],
   "source": [
    "from sklearn.tree import DecisionTreeClassifier"
   ]
  },
  {
   "cell_type": "code",
   "execution_count": 20,
   "id": "fd41440f",
   "metadata": {},
   "outputs": [
    {
     "data": {
      "text/plain": [
       "DecisionTreeClassifier(criterion='entropy', max_depth=15)"
      ]
     },
     "execution_count": 20,
     "metadata": {},
     "output_type": "execute_result"
    }
   ],
   "source": [
    "m2 = DecisionTreeClassifier(criterion='entropy',max_depth=15)\n",
    "m2.fit(x_train,y_train)"
   ]
  },
  {
   "cell_type": "code",
   "execution_count": 21,
   "id": "62fe96ce",
   "metadata": {},
   "outputs": [
    {
     "name": "stdout",
     "output_type": "stream",
     "text": [
      "Training Score 0.9991063449508489\n",
      "Testing Score 0.5916666666666667\n"
     ]
    }
   ],
   "source": [
    "tt_score(m2)"
   ]
  },
  {
   "cell_type": "code",
   "execution_count": 22,
   "id": "83f0e19f",
   "metadata": {},
   "outputs": [
    {
     "name": "stdout",
     "output_type": "stream",
     "text": [
      "[7 6 5 6 6 6 6 5 7 5 7 6 7 6 5 6 6 7 5 6 5 5 7 5 6 7 5 6 7 5 6 4 5 7 5 4 5\n",
      " 5 7 5 6 6 5 5 5 4 4 6 6 5 6 5 5 5 5 8 5 7 6 5 5 5 6 5 7 6 5 5 7 5 6 5 5 5\n",
      " 5 5 6 6 6 6 6 6 6 5 6 6 7 4 6 7 5 7 7 6 5 5 7 6 8 5 7 5 5 6 7 6 6 7 6 6 6\n",
      " 5 6 7 6 5 7 5 5 5 7 5 6 5 6 6 6 5 5 5 6 8 5 5 7 5 4 6 7 5 5 7 6 7 6 5 6 5\n",
      " 5 6 5 5 7 5 7 5 6 6 5 6 7 6 6 6 6 6 5 5 6 6 6 7 6 5 5 6 5 7 5 5 7 6 6 6 6\n",
      " 6 6 6 6 5 5 5 7 5 5 5 5 5 5 5 6 6 6 4 5 5 6 5 6 6 6 7 6 5 5 6 6 5 6 5 7 5\n",
      " 8 5 5 6 6 6 5 6 5 5 7 5 4 5 5 5 5 6 6 6 5 6 6 7 6 6 5 5 4 6 5 6 5 5 5 5 6\n",
      " 6 5 5 6 6 5 5 5 6 7 5 6 7 5 5 6 7 7 6 5 5 5 5 5 5 5 6 5 6 5 6 5 5 5 7 6 5\n",
      " 6 6 4 6 5 6 6 6 6 5 4 6 6 6 5 5 5 4 6 7 7 6 5 5 6 5 7 5 6 5 5 5 6 6 5 6 5\n",
      " 6 5 5 6 5 5 6 5 5 5 6 6 5 6 6 6 5 5 5 6 5 6 5 6 5 6 4 4 5 5 7 7 5 7 5 5 7\n",
      " 5 5 6 5 6 6 6 6 3 6 5 5 5 6 7 5 5 6 5 6 5 7 5 7 6 6 5 7 7 6 5 6 6 6 5 4 5\n",
      " 5 7 5 5 5 6 7 7 5 5 6 4 5 5 4 5 4 6 6 6 6 7 7 7 5 5 6 5 6 6 5 7 6 7 7 6 6\n",
      " 7 5 8 5 5 5 6 5 5 4 7 5 6 4 5 6 5 8 6 6 6 5 5 6 4 4 6 5 8 6 6 5 5 6 5 5]\n"
     ]
    }
   ],
   "source": [
    "ypred_m2 = m2.predict(x_test)\n",
    "print(ypred_m2)"
   ]
  },
  {
   "cell_type": "code",
   "execution_count": 23,
   "id": "b7d86a91",
   "metadata": {},
   "outputs": [
    {
     "name": "stdout",
     "output_type": "stream",
     "text": [
      "Confusion Matrix\n",
      " [[  0   3   1   0   0   0]\n",
      " [  0   2   3   5   3   0]\n",
      " [  1   9 137  37   5   0]\n",
      " [  0   6  63 111  25   6]\n",
      " [  0   2   2  20  33   0]\n",
      " [  0   0   1   3   1   1]]\n",
      "Classfication Report\n",
      "               precision    recall  f1-score   support\n",
      "\n",
      "           3       0.00      0.00      0.00         4\n",
      "           4       0.09      0.15      0.11        13\n",
      "           5       0.66      0.72      0.69       189\n",
      "           6       0.63      0.53      0.57       211\n",
      "           7       0.49      0.58      0.53        57\n",
      "           8       0.14      0.17      0.15         6\n",
      "\n",
      "    accuracy                           0.59       480\n",
      "   macro avg       0.34      0.36      0.34       480\n",
      "weighted avg       0.60      0.59      0.59       480\n",
      "\n"
     ]
    }
   ],
   "source": [
    "gen_metrics(y_test,ypred_m2)"
   ]
  },
  {
   "cell_type": "code",
   "execution_count": 24,
   "id": "98b1768f",
   "metadata": {},
   "outputs": [],
   "source": [
    "from sklearn.neighbors import KNeighborsClassifier"
   ]
  },
  {
   "cell_type": "code",
   "execution_count": 25,
   "id": "7228073d",
   "metadata": {},
   "outputs": [
    {
     "data": {
      "text/plain": [
       "KNeighborsClassifier(n_neighbors=17)"
      ]
     },
     "execution_count": 25,
     "metadata": {},
     "output_type": "execute_result"
    }
   ],
   "source": [
    "m3 = KNeighborsClassifier(n_neighbors=17)\n",
    "m3.fit(x_train,y_train)"
   ]
  },
  {
   "cell_type": "code",
   "execution_count": 26,
   "id": "be3d7206",
   "metadata": {},
   "outputs": [
    {
     "name": "stdout",
     "output_type": "stream",
     "text": [
      "Training Score 0.5701519213583557\n",
      "Testing Score 0.5145833333333333\n"
     ]
    }
   ],
   "source": [
    "tt_score(m3)"
   ]
  },
  {
   "cell_type": "code",
   "execution_count": 27,
   "id": "ebd8d459",
   "metadata": {},
   "outputs": [
    {
     "name": "stdout",
     "output_type": "stream",
     "text": [
      "[6 6 5 5 5 6 6 5 6 6 6 7 5 5 6 5 5 5 5 5 5 5 5 5 6 6 5 5 5 6 5 5 5 6 6 5 5\n",
      " 5 5 5 5 6 6 5 5 5 6 6 6 5 5 5 5 5 5 5 5 5 5 5 6 5 6 5 5 5 6 6 6 6 5 5 5 6\n",
      " 5 5 6 5 5 5 6 6 5 5 5 6 6 5 7 6 5 6 7 6 5 6 6 5 6 6 5 6 5 5 6 7 5 5 5 6 5\n",
      " 5 5 5 6 6 5 5 5 5 6 5 6 5 6 5 6 5 5 5 6 5 5 5 6 5 5 5 6 6 5 6 7 6 6 5 6 5\n",
      " 5 5 6 6 5 5 7 6 6 5 5 6 6 5 6 6 5 6 5 5 5 5 5 6 6 5 5 6 5 5 5 6 6 6 6 5 6\n",
      " 5 6 5 5 5 5 5 5 5 5 5 5 5 5 6 6 5 6 5 5 5 5 5 6 7 6 5 6 6 5 6 5 5 6 5 6 5\n",
      " 6 5 5 6 5 6 5 5 6 6 6 6 5 5 5 6 5 5 5 7 5 6 6 6 5 6 5 5 5 5 5 6 5 5 5 5 6\n",
      " 5 5 6 5 6 6 6 6 5 6 5 5 5 5 5 5 5 5 6 5 5 5 7 5 6 6 5 5 5 5 5 6 5 5 5 5 5\n",
      " 6 5 5 6 6 6 6 6 6 5 6 6 5 5 5 6 5 6 5 7 5 5 5 5 6 5 6 5 7 5 6 5 6 6 6 6 5\n",
      " 7 5 6 5 5 5 6 6 5 6 5 5 5 7 6 6 5 5 6 5 5 5 5 5 6 6 5 6 5 5 5 5 6 6 6 5 5\n",
      " 6 6 6 5 6 6 6 6 5 5 5 5 5 6 5 5 5 5 6 6 5 6 5 6 5 6 5 6 5 5 5 5 5 5 5 7 5\n",
      " 5 6 5 5 6 5 5 6 5 6 6 5 5 6 5 5 6 6 5 5 5 6 5 5 5 5 5 5 6 6 5 5 6 5 5 6 6\n",
      " 6 5 6 5 5 5 6 5 6 6 6 5 5 6 5 5 5 6 6 5 5 5 5 5 5 5 6 5 6 5 5 6 6 5 5 5]\n"
     ]
    }
   ],
   "source": [
    "ypred_m3 = m3.predict(x_test)\n",
    "print(ypred_m3)"
   ]
  },
  {
   "cell_type": "code",
   "execution_count": 28,
   "id": "de729673",
   "metadata": {},
   "outputs": [
    {
     "name": "stdout",
     "output_type": "stream",
     "text": [
      "Confusion Matrix\n",
      " [[  0   0   3   1   0   0]\n",
      " [  0   0   4   9   0   0]\n",
      " [  0   0 149  39   1   0]\n",
      " [  0   0 112  92   7   0]\n",
      " [  0   0  17  34   6   0]\n",
      " [  0   0   3   3   0   0]]\n",
      "Classfication Report\n",
      "               precision    recall  f1-score   support\n",
      "\n",
      "           3       0.00      0.00      0.00         4\n",
      "           4       0.00      0.00      0.00        13\n",
      "           5       0.52      0.79      0.62       189\n",
      "           6       0.52      0.44      0.47       211\n",
      "           7       0.43      0.11      0.17        57\n",
      "           8       0.00      0.00      0.00         6\n",
      "\n",
      "    accuracy                           0.51       480\n",
      "   macro avg       0.24      0.22      0.21       480\n",
      "weighted avg       0.48      0.51      0.47       480\n",
      "\n"
     ]
    }
   ],
   "source": [
    "gen_metrics(y_test,ypred_m3)"
   ]
  },
  {
   "cell_type": "code",
   "execution_count": 29,
   "id": "d8de04e8",
   "metadata": {},
   "outputs": [],
   "source": [
    "from sklearn.svm import SVC"
   ]
  },
  {
   "cell_type": "code",
   "execution_count": 30,
   "id": "ba193736",
   "metadata": {},
   "outputs": [
    {
     "data": {
      "text/plain": [
       "SVC(C=100, degree=4, kernel='poly')"
      ]
     },
     "execution_count": 30,
     "metadata": {},
     "output_type": "execute_result"
    }
   ],
   "source": [
    "m4 = SVC(kernel='poly',C=100,degree=4)\n",
    "m4.fit(x_train,y_train)"
   ]
  },
  {
   "cell_type": "code",
   "execution_count": 31,
   "id": "633df42e",
   "metadata": {},
   "outputs": [
    {
     "name": "stdout",
     "output_type": "stream",
     "text": [
      "Training Score 0.5227882037533512\n",
      "Testing Score 0.5395833333333333\n"
     ]
    }
   ],
   "source": [
    "tt_score(m4)"
   ]
  },
  {
   "cell_type": "code",
   "execution_count": 32,
   "id": "9b358538",
   "metadata": {},
   "outputs": [
    {
     "name": "stdout",
     "output_type": "stream",
     "text": [
      "[6 6 5 5 6 6 6 5 6 5 6 6 6 6 6 6 6 6 5 6 5 6 6 6 6 6 5 6 7 6 6 6 6 6 6 6 6\n",
      " 6 6 6 6 6 6 5 5 6 6 6 6 6 5 5 5 6 6 6 6 6 6 6 6 6 6 5 6 6 6 6 6 6 6 5 6 6\n",
      " 5 6 5 6 5 6 6 6 7 5 5 6 6 6 6 6 6 6 6 6 5 6 6 6 6 6 5 5 6 6 6 6 5 6 6 6 5\n",
      " 6 6 6 6 6 6 6 5 6 6 6 6 5 6 6 6 6 5 6 6 6 6 5 6 5 6 6 6 6 5 6 6 6 6 5 6 5\n",
      " 6 6 6 6 6 5 6 6 6 6 6 6 6 5 5 6 6 6 6 6 6 6 6 6 6 5 6 6 6 6 6 6 6 6 6 6 6\n",
      " 6 6 6 6 5 5 5 6 5 6 6 5 6 6 6 6 6 6 5 5 6 5 6 6 6 6 6 6 6 5 6 6 5 6 6 6 5\n",
      " 6 5 6 6 7 6 5 6 6 6 6 5 6 5 5 6 6 6 6 6 5 6 5 6 6 6 6 5 6 6 5 6 5 5 5 5 6\n",
      " 6 6 6 5 6 6 6 6 6 6 5 5 6 5 6 6 6 6 6 6 6 6 6 5 6 6 6 6 5 6 5 6 6 5 6 5 5\n",
      " 6 5 6 6 5 6 6 6 6 5 6 6 6 6 6 6 6 6 6 6 5 6 6 6 6 5 6 5 6 5 6 5 6 6 6 6 5\n",
      " 6 6 6 6 5 5 6 6 7 6 6 5 5 6 6 6 5 5 6 6 6 6 5 6 6 6 5 6 5 5 6 6 6 6 6 6 6\n",
      " 6 6 6 5 6 6 6 6 5 6 6 6 5 6 6 5 6 6 6 6 6 6 6 6 6 6 6 6 6 6 5 6 6 6 6 6 5\n",
      " 5 6 6 6 6 6 6 6 6 6 6 6 6 6 6 6 6 6 6 6 6 6 6 6 5 6 6 6 6 6 5 6 6 6 6 6 5\n",
      " 6 6 6 6 6 5 6 5 6 6 6 6 6 6 5 6 5 6 6 5 6 5 5 6 6 6 6 5 6 6 6 6 6 5 5 6]\n"
     ]
    }
   ],
   "source": [
    "ypred_m4 = m4.predict(x_test)\n",
    "print(ypred_m4)"
   ]
  },
  {
   "cell_type": "code",
   "execution_count": 33,
   "id": "da83b75e",
   "metadata": {},
   "outputs": [
    {
     "name": "stdout",
     "output_type": "stream",
     "text": [
      "Confusion Matrix\n",
      " [[  0   0   0   4   0   0]\n",
      " [  0   0   4   9   0   0]\n",
      " [  0   0  76 110   3   0]\n",
      " [  0   0  27 183   1   0]\n",
      " [  0   0   2  55   0   0]\n",
      " [  0   0   0   6   0   0]]\n",
      "Classfication Report\n",
      "               precision    recall  f1-score   support\n",
      "\n",
      "           3       0.00      0.00      0.00         4\n",
      "           4       0.00      0.00      0.00        13\n",
      "           5       0.70      0.40      0.51       189\n",
      "           6       0.50      0.87      0.63       211\n",
      "           7       0.00      0.00      0.00        57\n",
      "           8       0.00      0.00      0.00         6\n",
      "\n",
      "    accuracy                           0.54       480\n",
      "   macro avg       0.20      0.21      0.19       480\n",
      "weighted avg       0.49      0.54      0.48       480\n",
      "\n"
     ]
    }
   ],
   "source": [
    "gen_metrics(y_test,ypred_m4)"
   ]
  },
  {
   "cell_type": "code",
   "execution_count": 34,
   "id": "d3c62892",
   "metadata": {},
   "outputs": [],
   "source": [
    "from sklearn.ensemble import RandomForestClassifier"
   ]
  },
  {
   "cell_type": "code",
   "execution_count": 35,
   "id": "081a1c72",
   "metadata": {},
   "outputs": [
    {
     "data": {
      "text/plain": [
       "RandomForestClassifier(max_depth=9, n_estimators=80)"
      ]
     },
     "execution_count": 35,
     "metadata": {},
     "output_type": "execute_result"
    }
   ],
   "source": [
    "m5 = RandomForestClassifier(n_estimators=80,criterion='gini',max_depth=9)\n",
    "m5.fit(x_train,y_train)"
   ]
  },
  {
   "cell_type": "code",
   "execution_count": 36,
   "id": "c48fde40",
   "metadata": {},
   "outputs": [
    {
     "name": "stdout",
     "output_type": "stream",
     "text": [
      "Training Score 0.9294012511170688\n",
      "Testing Score 0.6666666666666666\n"
     ]
    }
   ],
   "source": [
    "tt_score(m5)"
   ]
  },
  {
   "cell_type": "code",
   "execution_count": 37,
   "id": "ba9a7bb4",
   "metadata": {},
   "outputs": [
    {
     "name": "stdout",
     "output_type": "stream",
     "text": [
      "[7 6 5 5 6 6 5 5 6 5 6 7 7 6 5 5 6 6 5 5 5 5 6 5 6 7 5 6 7 5 6 5 5 5 6 5 5\n",
      " 6 7 7 6 5 5 5 5 5 5 6 6 6 5 5 5 5 6 6 6 6 6 5 6 5 6 5 5 6 5 5 7 6 5 5 6 5\n",
      " 6 5 5 6 5 6 6 5 5 5 6 5 6 5 7 7 5 7 7 6 5 6 7 6 7 5 6 5 5 6 7 6 5 7 5 6 5\n",
      " 5 6 6 6 5 7 5 5 5 6 6 6 5 6 5 6 6 5 5 5 5 5 5 6 5 5 6 7 6 5 7 6 6 6 5 5 5\n",
      " 5 6 5 5 6 5 6 5 6 6 5 6 6 5 6 5 5 6 6 6 5 5 6 6 6 5 5 6 5 6 6 6 6 6 6 5 6\n",
      " 6 5 5 6 5 5 5 7 5 6 6 5 5 5 5 6 6 7 5 5 5 5 5 7 6 6 7 7 5 5 6 6 5 6 6 6 5\n",
      " 6 6 5 6 6 6 5 6 5 5 7 5 6 5 5 6 5 5 5 7 5 6 5 6 6 6 5 5 4 6 5 5 6 5 5 5 6\n",
      " 6 5 6 5 6 5 5 6 7 7 5 5 7 5 5 5 6 7 6 5 5 6 7 5 5 5 5 5 5 5 5 5 6 5 7 6 5\n",
      " 6 5 5 6 5 6 6 6 6 5 6 6 6 6 5 6 6 5 5 7 5 6 5 5 6 5 7 5 6 5 5 5 6 6 5 6 5\n",
      " 6 5 6 6 5 5 6 5 5 5 6 5 5 7 6 6 5 5 5 5 5 6 5 5 5 6 6 6 5 5 7 6 5 7 5 5 6\n",
      " 5 6 6 5 6 6 6 6 5 6 5 5 5 6 6 5 5 6 5 6 5 7 6 6 6 5 6 7 7 6 5 5 6 6 5 7 5\n",
      " 5 7 6 5 6 6 7 7 5 5 6 6 5 5 5 5 5 5 7 6 6 7 6 7 5 5 6 5 6 6 5 6 6 6 6 6 5\n",
      " 7 5 7 5 5 5 6 5 5 6 7 5 5 5 5 5 5 6 7 5 6 5 5 5 6 6 6 5 7 6 6 6 5 5 5 5]\n"
     ]
    }
   ],
   "source": [
    "ypred_m5 = m5.predict(x_test)\n",
    "print(ypred_m5)"
   ]
  },
  {
   "cell_type": "code",
   "execution_count": 38,
   "id": "a09c797e",
   "metadata": {},
   "outputs": [
    {
     "name": "stdout",
     "output_type": "stream",
     "text": [
      "Counter({5: 237, 6: 190, 7: 52, 4: 1})\n"
     ]
    }
   ],
   "source": [
    "from collections import Counter\n",
    "c1 = Counter(ypred_m5)\n",
    "print(c1)"
   ]
  },
  {
   "cell_type": "code",
   "execution_count": 39,
   "id": "dae69288",
   "metadata": {},
   "outputs": [
    {
     "name": "stdout",
     "output_type": "stream",
     "text": [
      "Confusion Matrix\n",
      " [[  0   1   2   1   0   0]\n",
      " [  0   0   6   7   0   0]\n",
      " [  0   0 160  28   1   0]\n",
      " [  0   0  63 129  19   0]\n",
      " [  0   0   6  20  31   0]\n",
      " [  0   0   0   5   1   0]]\n",
      "Classfication Report\n",
      "               precision    recall  f1-score   support\n",
      "\n",
      "           3       0.00      0.00      0.00         4\n",
      "           4       0.00      0.00      0.00        13\n",
      "           5       0.68      0.85      0.75       189\n",
      "           6       0.68      0.61      0.64       211\n",
      "           7       0.60      0.54      0.57        57\n",
      "           8       0.00      0.00      0.00         6\n",
      "\n",
      "    accuracy                           0.67       480\n",
      "   macro avg       0.33      0.33      0.33       480\n",
      "weighted avg       0.64      0.67      0.65       480\n",
      "\n"
     ]
    }
   ],
   "source": [
    "gen_metrics(y_test,ypred_m5)"
   ]
  },
  {
   "cell_type": "code",
   "execution_count": 44,
   "id": "154a8fc5",
   "metadata": {},
   "outputs": [],
   "source": [
    " def model_perf(model, x_train,x_test,y_test, y_train):\n",
    "    model.fit(x_train,y_train)\n",
    "    ypred = model.predict(x_test)\n",
    "    print(ypred)\n",
    "    cm = confusion_matrix(y_test,ypred)\n",
    "    print('confusion matrix\\n',cm)\n",
    "    print('Classification report\\n',classification_report(y_test,ypred,zero_division=0))\n",
    "    print('Acc score',accuracy_score(y_test,ypred))\n",
    "    \n",
    "    print('Training score',model.score(x_train,y_train))\n",
    "    print('Testing score',model.score(x_test,y_test))"
   ]
  },
  {
   "cell_type": "code",
   "execution_count": 45,
   "id": "648b24e8",
   "metadata": {},
   "outputs": [
    {
     "name": "stdout",
     "output_type": "stream",
     "text": [
      "[6 6 5 5 6 5 6 5 6 5 6 6 6 6 5 5 6 6 5 5 5 5 6 5 6 6 5 6 7 6 7 5 5 6 6 6 5\n",
      " 6 6 6 6 6 5 5 5 5 5 6 6 6 5 5 5 5 6 6 6 6 5 5 5 5 6 5 5 6 5 5 7 6 5 5 5 6\n",
      " 5 5 5 5 5 6 6 5 6 5 7 5 6 5 7 6 5 7 7 6 5 6 6 6 7 5 5 5 5 7 6 6 6 7 5 6 5\n",
      " 5 6 6 6 5 6 5 5 5 6 6 6 5 6 5 6 6 5 5 5 5 5 5 6 5 5 6 6 6 5 6 6 6 6 5 5 5\n",
      " 5 6 6 5 6 5 6 6 6 6 5 6 6 5 6 5 5 6 5 5 6 5 6 6 6 5 5 5 5 6 5 6 6 6 6 5 7\n",
      " 6 6 6 6 5 5 5 6 5 5 5 5 6 5 5 6 6 6 5 5 5 6 5 7 6 5 5 6 5 5 6 6 5 6 6 6 5\n",
      " 5 5 5 6 5 5 5 6 6 5 6 5 6 5 5 5 5 5 6 6 5 6 5 6 5 5 5 5 5 6 5 6 5 5 5 5 6\n",
      " 6 5 6 5 5 6 5 5 6 6 5 5 6 5 5 5 6 6 6 5 5 6 7 5 5 6 5 5 5 6 5 6 6 5 6 5 5\n",
      " 6 5 5 5 5 6 6 6 6 5 5 6 5 5 5 6 5 5 5 7 6 5 6 6 6 5 7 5 7 5 5 5 6 6 7 6 5\n",
      " 6 5 6 6 5 5 6 5 6 5 5 5 5 7 6 6 5 5 5 6 6 6 5 5 5 6 5 6 5 5 6 6 5 6 6 6 5\n",
      " 5 5 6 5 6 6 6 6 5 6 5 5 5 6 6 5 5 5 5 6 5 7 5 6 6 5 5 6 6 6 5 5 6 6 5 6 5\n",
      " 5 7 5 5 6 6 6 6 5 5 6 5 5 5 5 5 5 6 6 6 5 6 6 6 5 5 6 5 6 6 5 6 6 6 6 5 5\n",
      " 6 5 6 6 5 5 6 5 5 6 6 6 5 5 5 6 5 7 6 5 6 5 5 5 5 6 6 5 7 5 7 5 5 5 5 5]\n",
      "confusion matrix\n",
      " [[  0   0   3   1   0   0]\n",
      " [  0   0   8   4   1   0]\n",
      " [  0   0 153  33   3   0]\n",
      " [  0   0  78 125   8   0]\n",
      " [  0   0   7  40  10   0]\n",
      " [  0   0   0   5   1   0]]\n",
      "Classification report\n",
      "               precision    recall  f1-score   support\n",
      "\n",
      "           3       0.00      0.00      0.00         4\n",
      "           4       0.00      0.00      0.00        13\n",
      "           5       0.61      0.81      0.70       189\n",
      "           6       0.60      0.59      0.60       211\n",
      "           7       0.43      0.18      0.25        57\n",
      "           8       0.00      0.00      0.00         6\n",
      "\n",
      "    accuracy                           0.60       480\n",
      "   macro avg       0.28      0.26      0.26       480\n",
      "weighted avg       0.56      0.60      0.57       480\n",
      "\n",
      "Acc score 0.6\n",
      "Training score 0.5817694369973191\n",
      "Testing score 0.6\n"
     ]
    }
   ],
   "source": [
    "w1 = LogisticRegression(max_iter=1000,solver='liblinear')\n",
    "model_perf(w1, x_train,x_test,y_test, y_train)"
   ]
  },
  {
   "cell_type": "code",
   "execution_count": 46,
   "id": "b7ff6d21",
   "metadata": {},
   "outputs": [
    {
     "name": "stdout",
     "output_type": "stream",
     "text": [
      "[6 6 5 5 5 5 6 5 6 6 6 7 6 6 5 5 6 6 5 5 5 6 5 5 7 6 5 6 7 5 5 5 5 5 6 5 5\n",
      " 6 7 6 6 6 5 5 5 6 5 6 6 6 5 5 5 5 6 6 5 6 6 5 5 5 7 5 5 7 6 5 6 6 5 5 5 6\n",
      " 5 6 4 6 5 6 6 6 5 5 6 6 6 5 7 7 5 7 7 5 7 7 7 5 7 5 7 5 5 6 7 6 6 7 5 7 6\n",
      " 6 5 7 6 5 7 5 5 5 6 6 6 5 6 5 6 5 5 5 6 6 5 5 5 5 5 6 7 6 5 7 6 5 6 5 5 5\n",
      " 5 5 5 5 6 5 7 5 6 6 5 5 5 5 6 5 5 6 4 6 6 6 7 5 6 5 6 6 5 6 6 7 7 6 7 5 6\n",
      " 6 5 5 6 5 5 5 5 7 5 6 4 6 5 5 6 6 6 5 5 5 6 5 6 7 6 7 7 5 5 6 6 5 6 6 7 5\n",
      " 6 5 6 6 6 6 7 6 5 5 7 5 6 5 5 5 5 5 6 6 5 5 5 6 6 6 6 5 6 6 5 5 6 5 5 5 6\n",
      " 6 5 6 5 6 6 5 6 7 7 5 5 6 5 5 5 6 7 6 6 5 7 6 5 5 6 5 5 5 6 5 5 5 5 7 6 6\n",
      " 6 5 5 6 5 6 7 5 6 5 5 7 5 5 6 7 5 5 5 7 5 5 5 6 6 7 7 5 6 5 6 5 6 6 6 6 7\n",
      " 6 5 7 6 5 5 5 5 6 6 6 5 5 7 6 6 5 5 5 6 5 6 5 5 5 6 6 7 5 5 7 5 5 7 6 5 6\n",
      " 5 5 7 5 7 6 6 6 5 7 5 5 5 6 5 5 5 6 5 5 5 7 6 5 6 7 5 6 7 7 5 6 7 6 5 7 5\n",
      " 5 7 5 5 6 7 7 7 6 7 6 5 4 6 5 5 5 5 6 5 5 7 6 7 5 4 6 5 6 6 5 6 6 7 5 5 4\n",
      " 7 5 5 7 6 5 6 5 5 6 6 5 5 5 5 6 5 7 6 5 6 5 5 5 4 6 7 7 6 6 6 5 4 5 5 5]\n",
      "confusion matrix\n",
      " [[  0   0   2   2   0   0]\n",
      " [  0   0   8   3   2   0]\n",
      " [  0   8 139  33   9   0]\n",
      " [  0   0  72 111  28   0]\n",
      " [  0   0   5  21  31   0]\n",
      " [  0   0   0   3   3   0]]\n",
      "Classification report\n",
      "               precision    recall  f1-score   support\n",
      "\n",
      "           3       0.00      0.00      0.00         4\n",
      "           4       0.00      0.00      0.00        13\n",
      "           5       0.62      0.74      0.67       189\n",
      "           6       0.64      0.53      0.58       211\n",
      "           7       0.42      0.54      0.48        57\n",
      "           8       0.00      0.00      0.00         6\n",
      "\n",
      "    accuracy                           0.59       480\n",
      "   macro avg       0.28      0.30      0.29       480\n",
      "weighted avg       0.57      0.59      0.57       480\n",
      "\n",
      "Acc score 0.5854166666666667\n",
      "Training score 0.7792672028596962\n",
      "Testing score 0.5854166666666667\n"
     ]
    }
   ],
   "source": [
    "w2 = DecisionTreeClassifier(criterion='gini',max_depth=9,min_samples_split=17)\n",
    "model_perf(w2, x_train,x_test,y_test, y_train)"
   ]
  },
  {
   "cell_type": "code",
   "execution_count": null,
   "id": "9988fb79",
   "metadata": {},
   "outputs": [],
   "source": []
  }
 ],
 "metadata": {
  "kernelspec": {
   "display_name": "Python 3 (ipykernel)",
   "language": "python",
   "name": "python3"
  },
  "language_info": {
   "codemirror_mode": {
    "name": "ipython",
    "version": 3
   },
   "file_extension": ".py",
   "mimetype": "text/x-python",
   "name": "python",
   "nbconvert_exporter": "python",
   "pygments_lexer": "ipython3",
   "version": "3.9.12"
  }
 },
 "nbformat": 4,
 "nbformat_minor": 5
}
